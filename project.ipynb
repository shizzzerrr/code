{
  "nbformat": 4,
  "nbformat_minor": 0,
  "metadata": {
    "colab": {
      "name": "project.ipynb",
      "provenance": [],
      "collapsed_sections": [],
      "authorship_tag": "ABX9TyOqff4dGd1trxiRH9Q3zVmf",
      "include_colab_link": true
    },
    "kernelspec": {
      "name": "python3",
      "display_name": "Python 3"
    },
    "language_info": {
      "name": "python"
    }
  },
  "cells": [
    {
      "cell_type": "markdown",
      "metadata": {
        "id": "view-in-github",
        "colab_type": "text"
      },
      "source": [
        "<a href=\"https://colab.research.google.com/github/shizzzerrr/code/blob/master/project.ipynb\" target=\"_parent\"><img src=\"https://colab.research.google.com/assets/colab-badge.svg\" alt=\"Open In Colab\"/></a>"
      ]
    },
    {
      "cell_type": "code",
      "metadata": {
        "id": "fpmucjo9S29g"
      },
      "source": [
        "import pandas as pd\n",
        "from sklearn import preprocessing"
      ],
      "execution_count": 35,
      "outputs": []
    },
    {
      "cell_type": "code",
      "metadata": {
        "colab": {
          "base_uri": "https://localhost:8080/"
        },
        "id": "FQ7xh7_mTedT",
        "outputId": "4437c175-6771-4968-fa65-7c302983664a"
      },
      "source": [
        "data = pd.read_csv('diamonds.csv').drop(axis = 1, labels = ['Unnamed: 0'])\n",
        "print(data)"
      ],
      "execution_count": 36,
      "outputs": [
        {
          "output_type": "stream",
          "text": [
            "       carat        cut color clarity  depth  table  price     x     y     z\n",
            "0       0.23      Ideal     E     SI2   61.5   55.0    326  3.95  3.98  2.43\n",
            "1       0.21    Premium     E     SI1   59.8   61.0    326  3.89  3.84  2.31\n",
            "2       0.23       Good     E     VS1   56.9   65.0    327  4.05  4.07  2.31\n",
            "3       0.29    Premium     I     VS2   62.4   58.0    334  4.20  4.23  2.63\n",
            "4       0.31       Good     J     SI2   63.3   58.0    335  4.34  4.35  2.75\n",
            "...      ...        ...   ...     ...    ...    ...    ...   ...   ...   ...\n",
            "53935   0.72      Ideal     D     SI1   60.8   57.0   2757  5.75  5.76  3.50\n",
            "53936   0.72       Good     D     SI1   63.1   55.0   2757  5.69  5.75  3.61\n",
            "53937   0.70  Very Good     D     SI1   62.8   60.0   2757  5.66  5.68  3.56\n",
            "53938   0.86    Premium     H     SI2   61.0   58.0   2757  6.15  6.12  3.74\n",
            "53939   0.75      Ideal     D     SI2   62.2   55.0   2757  5.83  5.87  3.64\n",
            "\n",
            "[53940 rows x 10 columns]\n"
          ],
          "name": "stdout"
        }
      ]
    },
    {
      "cell_type": "code",
      "metadata": {
        "id": "3z6w-Ottilax",
        "colab": {
          "base_uri": "https://localhost:8080/"
        },
        "outputId": "ca5c002a-d7dc-4b18-a408-5001a3696490"
      },
      "source": [
        "le = preprocessing.LabelEncoder()\n",
        "for i in ['color', 'clarity', 'cut']:\n",
        "    data[i] = le.fit_transform(data[i])\n",
        "print(data)"
      ],
      "execution_count": 37,
      "outputs": [
        {
          "output_type": "stream",
          "text": [
            "       carat  cut  color  clarity  depth  table  price     x     y     z\n",
            "0       0.23    2      1        3   61.5   55.0    326  3.95  3.98  2.43\n",
            "1       0.21    3      1        2   59.8   61.0    326  3.89  3.84  2.31\n",
            "2       0.23    1      1        4   56.9   65.0    327  4.05  4.07  2.31\n",
            "3       0.29    3      5        5   62.4   58.0    334  4.20  4.23  2.63\n",
            "4       0.31    1      6        3   63.3   58.0    335  4.34  4.35  2.75\n",
            "...      ...  ...    ...      ...    ...    ...    ...   ...   ...   ...\n",
            "53935   0.72    2      0        2   60.8   57.0   2757  5.75  5.76  3.50\n",
            "53936   0.72    1      0        2   63.1   55.0   2757  5.69  5.75  3.61\n",
            "53937   0.70    4      0        2   62.8   60.0   2757  5.66  5.68  3.56\n",
            "53938   0.86    3      4        3   61.0   58.0   2757  6.15  6.12  3.74\n",
            "53939   0.75    2      0        3   62.2   55.0   2757  5.83  5.87  3.64\n",
            "\n",
            "[53940 rows x 10 columns]\n"
          ],
          "name": "stdout"
        }
      ]
    },
    {
      "cell_type": "code",
      "metadata": {
        "id": "_9LTqKuSYXBw"
      },
      "source": [
        "from sklearn.neighbors import KNeighborsClassifier\n",
        "from sklearn.preprocessing import scale\n",
        "from sklearn.model_selection import train_test_split\n",
        "from sklearn.metrics import r2_score"
      ],
      "execution_count": 38,
      "outputs": []
    },
    {
      "cell_type": "code",
      "metadata": {
        "id": "SqUAVh-qYcTk"
      },
      "source": [
        "x = scale( data.drop(axis = 1, labels = ['price']) )\n",
        "y = data['price']\n",
        "X_train, X_test, y_train, y_test = train_test_split(x, y, test_size=0.2)"
      ],
      "execution_count": 51,
      "outputs": []
    },
    {
      "cell_type": "code",
      "metadata": {
        "colab": {
          "base_uri": "https://localhost:8080/"
        },
        "id": "TtYpcU-iQ7zC",
        "outputId": "5d71d5ab-04de-4195-9aac-29a4220cc478"
      },
      "source": [
        "l = [0]\n",
        "for n in range(1, 100):\n",
        "  model = KNeighborsClassifier(n_neighbors=n)\n",
        "  model.fit(X_train,y_train)\n",
        "\n",
        "  y_predict = model.predict(X_test)\n",
        "  r2 = r2_score(y_test, y_predict)\n",
        "  l += [r2]\n",
        "\n",
        "print( l.index(max(l)) )"
      ],
      "execution_count": 41,
      "outputs": [
        {
          "output_type": "stream",
          "text": [
            "1\n"
          ],
          "name": "stdout"
        }
      ]
    },
    {
      "cell_type": "code",
      "metadata": {
        "colab": {
          "base_uri": "https://localhost:8080/"
        },
        "id": "l-yaJzBma8kC",
        "outputId": "5d545880-8079-4f3d-9ab5-059504880f57"
      },
      "source": [
        "model = KNeighborsClassifier(n_neighbors=1)\n",
        "model.fit(X_train,y_train)\n",
        "\n",
        "y_predict = model.predict(X_test)\n",
        "r2 = r2_score(y_test, y_predict)\n",
        "\n",
        "print(r2)"
      ],
      "execution_count": 52,
      "outputs": [
        {
          "output_type": "stream",
          "text": [
            "0.9481201769113734\n"
          ],
          "name": "stdout"
        }
      ]
    }
  ]
}